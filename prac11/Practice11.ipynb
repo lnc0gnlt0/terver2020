{
  "nbformat": 4,
  "nbformat_minor": 0,
  "metadata": {
    "kernelspec": {
      "display_name": "Python 3",
      "language": "python",
      "name": "python3"
    },
    "language_info": {
      "codemirror_mode": {
        "name": "ipython",
        "version": 3
      },
      "file_extension": ".py",
      "mimetype": "text/x-python",
      "name": "python",
      "nbconvert_exporter": "python",
      "pygments_lexer": "ipython3",
      "version": "3.6.8"
    },
    "colab": {
      "name": "Копия блокнота \"MainPractice12.ipynb\"",
      "provenance": [],
      "collapsed_sections": []
    }
  },
  "cells": [
    {
      "cell_type": "markdown",
      "metadata": {
        "id": "9bZbQHP4RsbX"
      },
      "source": [
        "# Практика 11. Make интегральчики great again!\n"
      ]
    },
    {
      "cell_type": "markdown",
      "metadata": {
        "id": "vm2BU1laRsbX"
      },
      "source": [
        "## Задачи на пару"
      ]
    },
    {
      "cell_type": "markdown",
      "metadata": {
        "id": "kv1X-c7GeC4W"
      },
      "source": [
        "**0.** Привести пример нормальных случайных величин $\\xi$ и $\\eta$ таких, что их сумма не нормальна. \n"
      ]
    },
    {
      "cell_type": "markdown",
      "metadata": {
        "id": "WlKvJndfRsbY"
      },
      "source": [
        "**1.** Независимые случайные величины $\\xi$ и $\\eta$ имеют экспоненциальное распределение с параметрами $a$ и $b$ соответственно. Найдите вероятность $P(\\xi\\leqslant\\eta)$.\n"
      ]
    },
    {
      "cell_type": "markdown",
      "metadata": {
        "id": "keUXImD9bZBt"
      },
      "source": [
        "**2.** Случайные величины $\\xi$ и $\\eta$ независимы и имеют показательное распределение с параметром 1. Доказать, что отношение $\\frac{\\xi}{\\xi + \\eta}$ распределено равномерно на отрезке $[0, 1]$."
      ]
    },
    {
      "cell_type": "markdown",
      "metadata": {
        "id": "aAKcr3AHRsbY"
      },
      "source": [
        "**3.** Пусть $\\xi$ - случайная величина с нормальным распределением $N(a; b)$. Какое распределение будет иметь:\n",
        "* $\\xi + \\alpha$ при $a = 0, b = 1, \\alpha = const$\n",
        "* $\\xi * \\alpha$ при $a = 0, b = 1, \\alpha = const$\n",
        "* $\\xi * \\alpha$ при $b = 1, \\alpha = const$\n",
        "* $\\xi + \\eta$ при $\\xi \\thicksim N(0, 1)$ и $\\eta \\thicksim N(0, 1)$"
      ]
    },
    {
      "cell_type": "markdown",
      "metadata": {
        "id": "iUouVVWrRsbY"
      },
      "source": [
        "## Домашка"
      ]
    },
    {
      "cell_type": "markdown",
      "metadata": {
        "id": "y_cUuC9_RsbY"
      },
      "source": [
        "**1.**(2 балла) Доказать, что не существует трех случайных величин $\\xi$, $\\eta$ и\n",
        "$\\theta$ таких, что коэффициент корреляции любых двух из них равен -1.\n"
      ]
    },
    {
      "cell_type": "markdown",
      "metadata": {
        "id": "PjGE3WtZRsbY"
      },
      "source": [
        "**2.**(2 балла) Пусть случайные величины $\\xi$ и $\\eta$ имеют нулевые средние значения, единичные дисперсии\n",
        "и коэффициент корреляции $c$. Показать,\n",
        "что $E\\max{(\\xi^2,\\eta^2)} \\geq 1 + \\sqrt{1 - c^2} $.\n"
      ]
    },
    {
      "cell_type": "markdown",
      "metadata": {
        "id": "uLX_un3SRsbZ"
      },
      "source": [
        "**3.**(2 балла) Есть $N$ урн, в которые бросают шары до тех пор, пока в каждой урне не окажется хотя бы по одному шару. Найдите среднее количество брошенных шаров, если известно, что шар попадает в урны равновероятно.\n"
      ]
    },
    {
      "cell_type": "markdown",
      "metadata": {
        "id": "3Qsw2TYylAvE"
      },
      "source": [
        "**4.**(2 балла) Доказать, что если $E|\\xi| < \\inf$, то \n",
        "\n",
        "$E\\xi = \\int_0^{\\inf}P(\\xi \\ge x)dx - \\int_{-\\inf}^0 P(\\xi < x)dx$\n"
      ]
    }
  ]
}
